{
 "cells": [
  {
   "cell_type": "code",
   "execution_count": 1,
   "metadata": {},
   "outputs": [],
   "source": [
    "import time\n",
    "\n",
    "import joblib\n",
    "\n",
    "import pandas as pd\n",
    "import numpy as np"
   ]
  },
  {
   "cell_type": "markdown",
   "metadata": {},
   "source": [
    "Load saved best models for each layer"
   ]
  },
  {
   "cell_type": "code",
   "execution_count": null,
   "metadata": {},
   "outputs": [],
   "source": [
    "# For layer 7\n",
    "layer_7_l1_model = joblib.load('../../saved_models/layer_7/l1_best_model_svm_cv')\n",
    "layer_7_l2_model = joblib.load('../../saved_models/layer_7/l2_best_model_svm_cv')\n",
    "layer_7_l3_model = joblib.load('../../saved_models/layer_7/l3_best_model_svm_cv')\n",
    "layer_7_l4_model = joblib.load('../../saved_models/layer_7/l4_best_model_svm_cv')"
   ]
  },
  {
   "cell_type": "code",
   "execution_count": 3,
   "metadata": {},
   "outputs": [],
   "source": [
    "# For layer 12\n",
    "layer_12_l1_model = joblib.load('../../saved_models/layer_12/l1_best_model_svm_cv')\n",
    "layer_12_l2_model = joblib.load('../../saved_models/layer_12/l2_best_model_svm_cv')\n",
    "layer_12_l3_model = joblib.load('../../saved_models/layer_12/l3_best_model_svm_cv')\n",
    "layer_12_l4_model = joblib.load('../../saved_models/layer_12/l4_best_model_svm_cv')"
   ]
  },
  {
   "cell_type": "code",
   "execution_count": null,
   "metadata": {},
   "outputs": [],
   "source": []
  }
 ],
 "metadata": {
  "kernelspec": {
   "display_name": "Python 3",
   "language": "python",
   "name": "python3"
  },
  "language_info": {
   "codemirror_mode": {
    "name": "ipython",
    "version": 3
   },
   "file_extension": ".py",
   "mimetype": "text/x-python",
   "name": "python",
   "nbconvert_exporter": "python",
   "pygments_lexer": "ipython3",
   "version": "3.10.2"
  },
  "orig_nbformat": 4
 },
 "nbformat": 4,
 "nbformat_minor": 2
}
